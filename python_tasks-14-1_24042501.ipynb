{
 "cells": [
  {
   "cell_type": "markdown",
   "metadata": {},
   "source": [
    "# PYTHON-14. Очистка данных"
   ]
  },
  {
   "cell_type": "markdown",
   "metadata": {},
   "source": [
    "## 3/12   2. Знакомство с новыми данными: данные о квартирах от Сбера"
   ]
  },
  {
   "cell_type": "markdown",
   "metadata": {},
   "source": [
    "Давайте проведём небольшой разведывательный анализ, чтобы понять, с чем мы работаем ↓"
   ]
  },
  {
   "cell_type": "code",
   "execution_count": 1,
   "metadata": {},
   "outputs": [],
   "source": [
    "import pandas as pd\n",
    "import numpy as np\n",
    "import matplotlib.pyplot as plt\n",
    "import seaborn as sns\n",
    "\n",
    "sber_data = pd.read_csv('./data/sber_data.csv', sep=',')"
   ]
  },
  {
   "cell_type": "markdown",
   "metadata": {},
   "source": [
    "### Задание 2.1\n",
    "Чему равно число строк в таблице?"
   ]
  },
  {
   "cell_type": "code",
   "execution_count": 2,
   "metadata": {},
   "outputs": [
    {
     "data": {
      "text/plain": [
       "(30471, 61)"
      ]
     },
     "metadata": {},
     "output_type": "display_data"
    }
   ],
   "source": [
    "display(sber_data.shape)"
   ]
  },
  {
   "cell_type": "markdown",
   "metadata": {},
   "source": [
    "### Задание 2.2\n",
    "Сколько районов Москвы и Московской области представлено в данных?"
   ]
  },
  {
   "cell_type": "code",
   "execution_count": 3,
   "metadata": {},
   "outputs": [
    {
     "data": {
      "text/plain": [
       "(146,)"
      ]
     },
     "metadata": {},
     "output_type": "display_data"
    }
   ],
   "source": [
    "display(sber_data['sub_area'].value_counts().shape)"
   ]
  },
  {
   "cell_type": "markdown",
   "metadata": {},
   "source": [
    "### Задание 2.3\n",
    "Чему равна максимальная цена квартир (price_doc)? Введите это число полностью, без округлений.\n",
    "\n",
    "Присмотритесь к нему — не кажется ли оно вам странным? Мы к нему ещё вернемся :)"
   ]
  },
  {
   "cell_type": "code",
   "execution_count": 4,
   "metadata": {},
   "outputs": [
    {
     "data": {
      "text/plain": [
       "2118     111111112\n",
       "28326     95122496\n",
       "7457      91066096\n",
       "19095     80777440\n",
       "6319      78802248\n",
       "           ...    \n",
       "3258        300000\n",
       "9221        260000\n",
       "1169        200000\n",
       "1167        190000\n",
       "20244       100000\n",
       "Name: price_doc, Length: 30471, dtype: int64"
      ]
     },
     "metadata": {},
     "output_type": "display_data"
    }
   ],
   "source": [
    "display(sber_data.sort_values(by='price_doc', ascending=False)['price_doc'])"
   ]
  },
  {
   "cell_type": "markdown",
   "metadata": {},
   "source": [
    "### Задание 2.4\n",
    "1 point possible (graded)\n",
    "Проверим, влияет ли уровень экологической обстановки в районе на цену квартиры. Постройте коробчатую диаграмму цен на квартиры (price_doc) в зависимости от уровня экологической обстановки в районе (ecology). Какой уровень ценится на рынке меньше всего?\n",
    "\n",
    "Введите название этой категории без кавычек."
   ]
  },
  {
   "cell_type": "code",
   "execution_count": 5,
   "metadata": {},
   "outputs": [
    {
     "data": {
      "image/png": "[encoded data removed]",
      "text/plain": [
       "<Figure size 720x504 with 1 Axes>"
      ]
     },
     "metadata": {
      "needs_background": "light"
     },
     "output_type": "display_data"
    }
   ],
   "source": [
    "fig = plt.figure(figsize=(10, 7))\n",
    "eco_box = sns.boxplot(\n",
    "    data=sber_data,\n",
    "    x='ecology',\n",
    "    y='price_doc'\n",
    ")\n"
   ]
  },
  {
   "cell_type": "markdown",
   "metadata": {},
   "source": [
    "##5/12   4. Работа с пропусками: методы обработки"
   ]
  },
  {
   "cell_type": "markdown",
   "metadata": {},
   "source": [
    "### Задание 4.6 (External resource)\n",
    "Вам предоставлен файл test_data.csv. Прочитав этот файл, вы получите вот такой DataFrame:\n",
    "    \n",
    "Ваша задача — очистить данную таблицу от пропусков следующим образом:\n",
    "\n",
    "Если признак имеет больше 50% пропущенных значений, удалите его.\n",
    "Для оставшихся данных: если в строке более двух пропусков, удалите строку.\n",
    "Для оставшихся данных: числовые признаки заполните средним значением, а категориальные — модой.\n",
    "У вас должна получиться следующая таблица df:\n",
    "    \n",
    "Примечание. Не забудьте импортировать библиотеки."
   ]
  },
  {
   "cell_type": "code",
   "execution_count": 6,
   "metadata": {},
   "outputs": [
    {
     "name": "stdout",
     "output_type": "stream",
     "text": [
      "(8, 5)\n",
      "(7, 4)\n",
      "        one       two     three  four\n",
      "0  1.331587  0.715279 -1.545400   bar\n",
      "2 -0.008384  0.621336 -0.720086   bar\n",
      "3  1.000000  0.500000  0.500000   NaN\n",
      "4  0.265512  0.108549  0.004291   bar\n",
      "5 -0.174600  0.433026  1.203037   bar\n",
      "6       NaN       NaN  1.200000  hist\n",
      "7 -0.965066  1.028274  0.228630   bar\n",
      "        one       two     three  four\n",
      "0  1.331587  0.715279 -1.545400   bar\n",
      "2 -0.008384  0.621336 -0.720086   bar\n",
      "3  1.000000  0.500000  0.500000   bar\n",
      "4  0.265512  0.108549  0.004291   bar\n",
      "5 -0.174600  0.433026  1.203037   bar\n",
      "6  0.241508  0.567744  1.200000  hist\n",
      "7 -0.965066  1.028274  0.228630   bar\n"
     ]
    }
   ],
   "source": [
    "# Введите свое решение ниже\n",
    "import pandas as pd\n",
    "\n",
    "test_data = pd.read_csv('./data/test_data.csv', sep = ',')\n",
    "clean_data = test_data.copy()\n",
    "print(clean_data.shape)\n",
    "m = clean_data.shape[0]*0.5\n",
    "clean_data = clean_data.dropna(thresh=m, axis=1)\n",
    "n = clean_data.shape[1] - 2\n",
    "clean_data = clean_data.dropna(thresh=n, axis=0)\n",
    "\n",
    "print(clean_data.shape)\n",
    "print(clean_data)\n",
    "\n",
    "values = {\n",
    "    'one': clean_data['one'].mean(),\n",
    "    'two': clean_data['two'].mean(),\n",
    "    'three': clean_data['three'].mean(),\n",
    "    'four': clean_data['four'].mode()[0]\n",
    "}\n",
    "df = clean_data.fillna(values)\n",
    "\n",
    "print(df)"
   ]
  },
  {
   "cell_type": "markdown",
   "metadata": {},
   "source": [
    "## 7/12   6. Методы выявления выбросов"
   ]
  },
  {
   "cell_type": "markdown",
   "metadata": {},
   "source": [
    "### Задание 6.1 (External resource)\n",
    "Давайте немного модифицируем функцию outliers_iqr(data, feature). Добавьте в неё параметры left и right, \n",
    "которые задают число IQR влево и вправо от границ ящика (пусть по умолчанию они равны 1.5). \n",
    "Назовите измененную функцию: outliers_iqr_mod`\n",
    "Функция, как и раньше, должна возвращать потенциальные выбросы и очищенный DataFrame.\n",
    "\n",
    "\n",
    "Можете протестировать работу функции на DataFrame test_sber_data.csv."
   ]
  },
  {
   "cell_type": "code",
   "execution_count": 30,
   "metadata": {},
   "outputs": [
    {
     "data": {
      "image/png": "[encoded data removed]",
      "text/plain": [
       "<Figure size 1080x288 with 2 Axes>"
      ]
     },
     "metadata": {
      "needs_background": "light"
     },
     "output_type": "display_data"
    }
   ],
   "source": [
    "def outliers_iqr_mod(data, feature, log_scale=False, left=1.5, right=1.5):\n",
    "    if log_scale:\n",
    "        x = np.log(data[feature]+1)\n",
    "    else:\n",
    "        x = data[feature]\n",
    "    quartile_1, quartile_3 = x.quantile(0.25), x.quantile(0.75)\n",
    "    iqr = quartile_3 - quartile_1\n",
    "    lower_bound = quartile_1 - iqr*left\n",
    "    upper_bound = quartile_3 + iqr*right\n",
    "    outliers = data[(x < lower_bound) | (x > upper_bound)]\n",
    "    cleaned = data[(x >= lower_bound) & (x <= upper_bound)]\n",
    "    return outliers, cleaned\n",
    "\n",
    "outliers, cleaned = outliers_iqr_mod(sber_data, 'full_sq', 2, 2)\n",
    "\n",
    "fig, axes = plt.subplots(nrows=1, ncols=2, figsize=(15, 4))\n",
    "histplot = sns.histplot(data=cleaned, x='full_sq', ax=axes[0]);\n",
    "histplot.set_title('Cleaned Full Square Distribution');\n",
    "boxplot = sns.boxplot(data=cleaned, x='full_sq', ax=axes[1]);\n",
    "boxplot.set_title('Cleaned Full Square Boxplot');\n",
    "\n",
    "\n"
   ]
  },
  {
   "cell_type": "markdown",
   "metadata": {},
   "source": [
    "### Задание 6.2\n",
    "1 point possible (graded)\n",
    "Давайте ослабим границы метода Тьюки справа и усилим их влево. Примените модифицированную функцию outliers_iqr_mod() к признаку full_sq из таблицы sber_data данным с параметрами left=1 и right=6. Результаты работы поместите в переменные outliers и cleaned. Чему равно результирующее число выбросов в данных?"
   ]
  },
  {
   "cell_type": "code",
   "execution_count": 8,
   "metadata": {},
   "outputs": [
    {
     "name": "stdout",
     "output_type": "stream",
     "text": [
      "(59, 61)\n"
     ]
    }
   ],
   "source": [
    "outliers, cleaned = outliers_iqr(sber_data, 'full_sq', 1, 6)\n",
    "print(outliers.shape)"
   ]
  },
  {
   "cell_type": "code",
   "execution_count": 9,
   "metadata": {},
   "outputs": [
    {
     "data": {
      "image/png": "[encoded data removed]",
      "text/plain": [
       "<Figure size 1080x288 with 2 Axes>"
      ]
     },
     "metadata": {
      "needs_background": "light"
     },
     "output_type": "display_data"
    }
   ],
   "source": [
    "fig, axes = plt.subplots(nrows=1, ncols=2, figsize=(15, 4))\n",
    "histplot = sns.histplot(data=cleaned, x='full_sq', ax=axes[0]);\n",
    "histplot.set_title('Cleaned Full Square Distribution');\n",
    "boxplot = sns.boxplot(data=cleaned, x='full_sq', ax=axes[1]);\n",
    "boxplot.set_title('Cleaned Full Square Boxplot');"
   ]
  },
  {
   "cell_type": "markdown",
   "metadata": {},
   "source": [
    "### Задание 6.3 (External resource)\n",
    "Давайте расширим правило трёх сигм, чтобы иметь возможность учитывать особенности данных. Добавьте в функцию outliers_z_score(data, feature, log_scale=False) параметры left и right, которые будут задавать число сигм (стандартных отклонений) влево и вправо соответственно, определяющее границы метода z-отклонения. По умолчанию оба параметры равны 3.\n",
    "\n",
    "Результирующую функцию назовите outliers_z_score_mod().\n",
    "\n",
    "Можете протестировать работу функции на DataFrame test_sber_data.csv. Проверять ваше решение мы будем, подавая на вход функции вместо data произвольный датафрейм."
   ]
  },
  {
   "cell_type": "code",
   "execution_count": 20,
   "metadata": {},
   "outputs": [],
   "source": [
    "import numpy as np\n",
    "\n",
    "def outliers_z_score_mod(data, feature, log_scale=False, left=3, right=3):\n",
    "    if log_scale:\n",
    "        x = np.log(data[feature]+1)\n",
    "    else:\n",
    "        x = data[feature]\n",
    "    mu = x.mean()\n",
    "    sigma = x.std()\n",
    "    lower_bound = mu - left * sigma\n",
    "    upper_bound = mu + right * sigma\n",
    "    outliers = data[(x < lower_bound) | (x > upper_bound)]\n",
    "    cleaned = data[(x >= lower_bound) & (x <= upper_bound)]\n",
    "    return outliers, cleaned"
   ]
  },
  {
   "cell_type": "code",
   "execution_count": 14,
   "metadata": {},
   "outputs": [
    {
     "name": "stdout",
     "output_type": "stream",
     "text": [
      "Число выбросов по методу z-отклонения: 31\n",
      "Результирующее число записей: 30440\n"
     ]
    }
   ],
   "source": [
    "outliers, cleaned = outliers_z_score_mod(sber_data, 'mkad_km', log_scale=True, left=3, right=3.2)\n",
    "print(f'Число выбросов по методу z-отклонения: {outliers.shape[0]}')\n",
    "print(f'Результирующее число записей: {cleaned.shape[0]}')"
   ]
  },
  {
   "cell_type": "code",
   "execution_count": 15,
   "metadata": {},
   "outputs": [
    {
     "name": "stdout",
     "output_type": "stream",
     "text": [
      "(          id  full_sq  life_sq  floor              sub_area  preschool_quota  \\\n",
      "128      129      325    325.0    7.0            Ivanovskoe           2697.0   \n",
      "702      703       12      8.0    4.0    Horoshevo-Mnevniki           3397.0   \n",
      "997      998      183    183.0   32.0          Obruchevskoe           2372.0   \n",
      "1029    1030      204    197.0    3.0            Krylatskoe           3092.0   \n",
      "1085    1086       13      9.0    3.0    Horoshevo-Mnevniki           3397.0   \n",
      "...      ...      ...      ...    ...                   ...              ...   \n",
      "29134  29137       12      8.0    1.0            Gol'janovo           5041.0   \n",
      "29310  29313      197    197.0    1.0        Juzhnoe Butovo          11926.0   \n",
      "29517  29520      187    139.0    3.0             Hamovniki            165.0   \n",
      "29630  29633       15     11.0    5.0  Vostochnoe Izmajlovo           1838.0   \n",
      "29656  29659      211    162.0    5.0           Presnenskoe           3240.0   \n",
      "\n",
      "       preschool_education_centers_raion  school_quota  \\\n",
      "128                                    7        9439.0   \n",
      "702                                    4       11085.0   \n",
      "997                                    6        6083.0   \n",
      "1029                                   7        7478.0   \n",
      "1085                                   4       11085.0   \n",
      "...                                  ...           ...   \n",
      "29134                                  6       11081.0   \n",
      "29310                                 11       24750.0   \n",
      "29517                                  5        9337.0   \n",
      "29630                                  2        4474.0   \n",
      "29656                                  7       10602.0   \n",
      "\n",
      "       school_education_centers_raion  school_education_centers_top_20_raion  \\\n",
      "128                                 8                                      1   \n",
      "702                                 5                                      0   \n",
      "997                                 8                                      0   \n",
      "1029                                7                                      0   \n",
      "1085                                5                                      0   \n",
      "...                               ...                                    ...   \n",
      "29134                               7                                      0   \n",
      "29310                              13                                      1   \n",
      "29517                               8                                      1   \n",
      "29630                               3                                      0   \n",
      "29656                               9                                      0   \n",
      "\n",
      "       ...  office_km  additional_education_km  preschool_km  big_church_km  \\\n",
      "128    ...   3.310054                 0.602138      0.369984       1.104165   \n",
      "702    ...   0.639845                 0.150472      0.304443       1.718793   \n",
      "997    ...   0.723276                 0.597668      0.755596       1.734076   \n",
      "1029   ...   0.943284                 1.101481      1.017447       1.466078   \n",
      "1085   ...   0.639845                 0.150472      0.304443       1.718793   \n",
      "...    ...        ...                      ...           ...            ...   \n",
      "29134  ...   1.227212                 0.736917      0.704874       1.663270   \n",
      "29310  ...   6.711027                 2.234331      1.228756       3.000518   \n",
      "29517  ...   0.169137                 0.074614      0.765787       0.511217   \n",
      "29630  ...   0.165944                 0.371159      0.429967       2.741686   \n",
      "29656  ...   0.214195                 0.759790      0.219068       0.392248   \n",
      "\n",
      "       church_synagogue_km  theater_km  museum_km       ecology  \\\n",
      "128               1.247850    2.194396   1.143931          poor   \n",
      "702               1.049836   10.394360   6.099160  satisfactory   \n",
      "997               1.045770    3.800176   3.234512  satisfactory   \n",
      "1029              1.139595   12.639596   8.651368          good   \n",
      "1085              1.049836   10.394360   6.099160  satisfactory   \n",
      "...                    ...         ...        ...           ...   \n",
      "29134             1.011128    7.119932   6.834186          good   \n",
      "29310             1.257812   19.890985  16.071084  satisfactory   \n",
      "29517             0.274904    2.546498   0.765085     excellent   \n",
      "29630             0.313728    5.532857   4.565921          good   \n",
      "29656             0.373612    0.353865   0.734204     excellent   \n",
      "\n",
      "      mosque_count_1000 price_doc  \n",
      "128                   0   5000000  \n",
      "702                   0   3150000  \n",
      "997                   1  26056764  \n",
      "1029                  0   2000000  \n",
      "1085                  0   3000000  \n",
      "...                 ...       ...  \n",
      "29134                 0   2590000  \n",
      "29310                 0  18657500  \n",
      "29517                 0  42300000  \n",
      "29630                 0   2000000  \n",
      "29656                 0  70000000  \n",
      "\n",
      "[129 rows x 61 columns],           id  full_sq  life_sq  floor              sub_area  preschool_quota  \\\n",
      "0          1       43     27.0    4.0              Bibirevo           5001.0   \n",
      "1          2       34     19.0    3.0     Nagatinskij Zaton           3119.0   \n",
      "2          3       43     29.0    2.0        Tekstil'shhiki           1463.0   \n",
      "3          4       89     50.0    9.0                Mitino           6839.0   \n",
      "4          5       77     77.0    4.0             Basmannoe           3240.0   \n",
      "...      ...      ...      ...    ...                   ...              ...   \n",
      "30466  30469       44     27.0    7.0              Otradnoe           5088.0   \n",
      "30467  30470       86     59.0    3.0              Tverskoe           1874.0   \n",
      "30468  30471       45      NaN   10.0  Poselenie Vnukovskoe              NaN   \n",
      "30469  30472       64     32.0    5.0          Obruchevskoe           2372.0   \n",
      "30470  30473       43     28.0    1.0           Novogireevo           2215.0   \n",
      "\n",
      "       preschool_education_centers_raion  school_quota  \\\n",
      "0                                      5       11065.0   \n",
      "1                                      5        6237.0   \n",
      "2                                      4        5580.0   \n",
      "3                                      9       17063.0   \n",
      "4                                      7        7770.0   \n",
      "...                                  ...           ...   \n",
      "30466                                  4       12721.0   \n",
      "30467                                  4        6772.0   \n",
      "30468                                  0           NaN   \n",
      "30469                                  6        6083.0   \n",
      "30470                                  4        5824.0   \n",
      "\n",
      "       school_education_centers_raion  school_education_centers_top_20_raion  \\\n",
      "0                                   5                                      0   \n",
      "1                                   8                                      0   \n",
      "2                                   7                                      0   \n",
      "3                                  10                                      0   \n",
      "4                                   9                                      0   \n",
      "...                               ...                                    ...   \n",
      "30466                               4                                      0   \n",
      "30467                               4                                      1   \n",
      "30468                               0                                      0   \n",
      "30469                               8                                      0   \n",
      "30470                               4                                      0   \n",
      "\n",
      "       ...  office_km  additional_education_km  preschool_km  big_church_km  \\\n",
      "0      ...   0.637189                 0.947962      0.177975       0.625783   \n",
      "1      ...   0.688796                 1.072315      0.273345       0.967821   \n",
      "2      ...   1.543049                 0.391957      0.158072       3.178751   \n",
      "3      ...   0.934273                 0.892674      0.236455       1.031777   \n",
      "4      ...   0.077901                 0.810801      0.376838       0.378756   \n",
      "...    ...        ...                      ...           ...            ...   \n",
      "30466  ...   1.103579                 0.167718      0.349899       1.235066   \n",
      "30467  ...   0.069986                 0.086552      0.362681       0.850385   \n",
      "30468  ...   4.338453                 1.339078      1.234235       1.192543   \n",
      "30469  ...   1.204798                 1.340017      0.130667       1.644053   \n",
      "30470  ...   2.108265                 0.825811      0.378950       0.480531   \n",
      "\n",
      "       church_synagogue_km  theater_km  museum_km       ecology  \\\n",
      "0                 0.628187   14.053047   7.389498          good   \n",
      "1                 0.471447    6.829889   0.709260     excellent   \n",
      "2                 0.755946    4.273200   3.156423          poor   \n",
      "3                 1.561505   16.990677  16.041521          good   \n",
      "4                 0.121681    1.112486   1.800125     excellent   \n",
      "...                    ...         ...        ...           ...   \n",
      "30466             0.612359    7.482165   4.836787          good   \n",
      "30467             0.310021    0.778428   1.450108          poor   \n",
      "30468             1.186621   13.459593   9.890758       no data   \n",
      "30469             0.476021    2.088193   4.119706  satisfactory   \n",
      "30470             0.867332    0.688707   0.127867          poor   \n",
      "\n",
      "      mosque_count_1000 price_doc  \n",
      "0                     0   5850000  \n",
      "1                     0   6000000  \n",
      "2                     0   5700000  \n",
      "3                     0  13100000  \n",
      "4                     0  16331452  \n",
      "...                 ...       ...  \n",
      "30466                 0   7400000  \n",
      "30467                 0  25000000  \n",
      "30468                 0   6970959  \n",
      "30469                 0  13500000  \n",
      "30470                 0   5600000  \n",
      "\n",
      "[30342 rows x 61 columns])\n"
     ]
    }
   ],
   "source": [
    "# print(outliers_z_score_mod(data=sber_data, feature='full_sq', right=3.5, log_scale=True))"
   ]
  },
  {
   "cell_type": "markdown",
   "metadata": {},
   "source": [
    "### Задание 6.4\n",
    "1 point possible (graded)\n",
    "Проверьте, что будет, если дать «послабление» вправо, увеличив число сигм. Наша задача — узнать, начиная с какой границы поселения «Роговское» и «Киевское» перестают считаться выбросами. Примените свою функцию outliers_z_score_mod() к признаку mkad_km с параметрами left=3, right=3.5, log_scale=True. Чему равно результирующее число выбросов?"
   ]
  },
  {
   "cell_type": "code",
   "execution_count": 16,
   "metadata": {},
   "outputs": [
    {
     "name": "stdout",
     "output_type": "stream",
     "text": [
      "Число выбросов по методу z-отклонения: 0\n",
      "Результирующее число записей: 30471\n"
     ]
    }
   ],
   "source": [
    "outliers, cleaned = outliers_z_score_mod(sber_data, 'mkad_km', log_scale=True, left=3, right=3.5)\n",
    "print(f'Число выбросов по методу z-отклонения: {outliers.shape[0]}')\n",
    "print(f'Результирующее число записей: {cleaned.shape[0]}')"
   ]
  },
  {
   "cell_type": "markdown",
   "metadata": {},
   "source": [
    "### Задание 6.5\n",
    "1 point possible (graded)\n",
    "Постройте гистограмму для признака price_doc в логарифмическом масштабе. А также, добавьте на график линии, отображающие среднее и границы интервала для метода трех сигм. Выберите верные утверждения:"
   ]
  },
  {
   "cell_type": "code",
   "execution_count": 24,
   "metadata": {},
   "outputs": [
    {
     "data": {
      "image/png": "[encoded data removed]",
      "text/plain": [
       "<Figure size 576x288 with 1 Axes>"
      ]
     },
     "metadata": {
      "needs_background": "light"
     },
     "output_type": "display_data"
    }
   ],
   "source": [
    "fig, ax = plt.subplots(1, 1, figsize=(8, 4))\n",
    "log_price_doc = np.log(sber_data['price_doc'])\n",
    "histplot = sns.histplot(log_price_doc, bins=30, ax=ax)\n",
    "histplot.axvline(log_price_doc.mean(), color='k', lw=2)\n",
    "histplot.axvline(log_price_doc.mean()+ 3 * log_price_doc.std(), color='k', ls='--', lw=2)\n",
    "histplot.axvline(log_price_doc.mean()- 3 * log_price_doc.std(), color='k', ls='--', lw=2)\n",
    "histplot.set_title('Log log_price_doc');"
   ]
  },
  {
   "cell_type": "markdown",
   "metadata": {},
   "source": [
    "### Задание 6.6\n",
    "1 point possible (graded)\n",
    "Найдите потенциальные выбросы по признаку price_doc с помощью метода z-отклонения. Используйте логарифмический масштаб распределения. Сделайте «послабление» на 0.7 сигм в обе стороны распределения. Сколько выбросов вы получили?"
   ]
  },
  {
   "cell_type": "code",
   "execution_count": 26,
   "metadata": {},
   "outputs": [
    {
     "name": "stdout",
     "output_type": "stream",
     "text": [
      "Число выбросов по методу z-отклонения: 1481\n",
      "Результирующее число записей: 28990\n"
     ]
    }
   ],
   "source": [
    "outliers, cleaned = outliers_z_score_mod(sber_data, 'price_doc', log_scale=True, left=2.3, right=2.3)\n",
    "print(f'Число выбросов по методу z-отклонения: {outliers.shape[0]}')\n",
    "print(f'Результирующее число записей: {cleaned.shape[0]}')"
   ]
  },
  {
   "cell_type": "markdown",
   "metadata": {},
   "source": [
    "### Задание 6.7\n",
    "1 point possible (graded)\n",
    "Добавьте фишку с логарифмированием в свою функцию outliers_iqr_mod(). Добавьте в неё параметр log_scale. Если он выставлен в True, то производится логарифмирование признака. Примените полученную функцию к признаку price_doc. Число межквартильных размахов в обе стороны обозначьте как 3. Чему равно число выбросов, полученных таким методом?\n",
    "\n",
    "При логарифмировании признака price_doc добавлять к нему 1 не нужно, он не имеет нулевых значений!"
   ]
  },
  {
   "cell_type": "code",
   "execution_count": null,
   "metadata": {},
   "outputs": [],
   "source": [
    "outliers, cleaned = outliers_iqr_mod(sber_data, 'full_sq', log_scale=True, left=1.5, right=1.5)\n",
    "print(f'Число выбросов по методу z-отклонения: {outliers.shape[0]}')\n",
    "print(f'Результирующее число записей: {cleaned.shape[0]}')"
   ]
  }
 ],
 "metadata": {
  "kernelspec": {
   "display_name": "base",
   "language": "python",
   "name": "python3"
  },
  "language_info": {
   "codemirror_mode": {
    "name": "ipython",
    "version": 3
   },
   "file_extension": ".py",
   "mimetype": "text/x-python",
   "name": "python",
   "nbconvert_exporter": "python",
   "pygments_lexer": "ipython3",
   "version": "3.8.12"
  }
 },
 "nbformat": 4,
 "nbformat_minor": 2
}
